{
 "cells": [
  {
   "cell_type": "code",
   "execution_count": 2,
   "id": "7d83bdcf",
   "metadata": {},
   "outputs": [],
   "source": [
    "import numpy as np\n",
    "import pandas as pd"
   ]
  },
  {
   "cell_type": "code",
   "execution_count": 3,
   "id": "abc3295f",
   "metadata": {},
   "outputs": [],
   "source": [
    "data=pd.read_csv(\"Day2_2022.txt\",header=None,delimiter=\"\\s+\")"
   ]
  },
  {
   "cell_type": "code",
   "execution_count": 4,
   "id": "84c65036",
   "metadata": {},
   "outputs": [
    {
     "data": {
      "text/html": [
       "<div>\n",
       "<style scoped>\n",
       "    .dataframe tbody tr th:only-of-type {\n",
       "        vertical-align: middle;\n",
       "    }\n",
       "\n",
       "    .dataframe tbody tr th {\n",
       "        vertical-align: top;\n",
       "    }\n",
       "\n",
       "    .dataframe thead th {\n",
       "        text-align: right;\n",
       "    }\n",
       "</style>\n",
       "<table border=\"1\" class=\"dataframe\">\n",
       "  <thead>\n",
       "    <tr style=\"text-align: right;\">\n",
       "      <th></th>\n",
       "      <th>0</th>\n",
       "      <th>1</th>\n",
       "    </tr>\n",
       "  </thead>\n",
       "  <tbody>\n",
       "    <tr>\n",
       "      <th>0</th>\n",
       "      <td>A</td>\n",
       "      <td>Y</td>\n",
       "    </tr>\n",
       "    <tr>\n",
       "      <th>1</th>\n",
       "      <td>B</td>\n",
       "      <td>X</td>\n",
       "    </tr>\n",
       "    <tr>\n",
       "      <th>2</th>\n",
       "      <td>C</td>\n",
       "      <td>X</td>\n",
       "    </tr>\n",
       "    <tr>\n",
       "      <th>3</th>\n",
       "      <td>A</td>\n",
       "      <td>Z</td>\n",
       "    </tr>\n",
       "    <tr>\n",
       "      <th>4</th>\n",
       "      <td>B</td>\n",
       "      <td>Y</td>\n",
       "    </tr>\n",
       "    <tr>\n",
       "      <th>...</th>\n",
       "      <td>...</td>\n",
       "      <td>...</td>\n",
       "    </tr>\n",
       "    <tr>\n",
       "      <th>2495</th>\n",
       "      <td>A</td>\n",
       "      <td>Z</td>\n",
       "    </tr>\n",
       "    <tr>\n",
       "      <th>2496</th>\n",
       "      <td>B</td>\n",
       "      <td>Y</td>\n",
       "    </tr>\n",
       "    <tr>\n",
       "      <th>2497</th>\n",
       "      <td>A</td>\n",
       "      <td>Y</td>\n",
       "    </tr>\n",
       "    <tr>\n",
       "      <th>2498</th>\n",
       "      <td>C</td>\n",
       "      <td>X</td>\n",
       "    </tr>\n",
       "    <tr>\n",
       "      <th>2499</th>\n",
       "      <td>A</td>\n",
       "      <td>X</td>\n",
       "    </tr>\n",
       "  </tbody>\n",
       "</table>\n",
       "<p>2500 rows × 2 columns</p>\n",
       "</div>"
      ],
      "text/plain": [
       "      0  1\n",
       "0     A  Y\n",
       "1     B  X\n",
       "2     C  X\n",
       "3     A  Z\n",
       "4     B  Y\n",
       "...  .. ..\n",
       "2495  A  Z\n",
       "2496  B  Y\n",
       "2497  A  Y\n",
       "2498  C  X\n",
       "2499  A  X\n",
       "\n",
       "[2500 rows x 2 columns]"
      ]
     },
     "execution_count": 4,
     "metadata": {},
     "output_type": "execute_result"
    }
   ],
   "source": [
    "data"
   ]
  },
  {
   "cell_type": "code",
   "execution_count": 7,
   "id": "d8e5b8c4",
   "metadata": {},
   "outputs": [],
   "source": [
    "Dict={'A':{'X':1+3,'Y':2+6,'Z':3+0},\n",
    "      'B':{'X':1+0,'Y':2+3,'Z':3+6},\n",
    "      'C':{'X':1+6,'Y':2+0,'Z':3+3}}\n",
    "    "
   ]
  },
  {
   "cell_type": "code",
   "execution_count": 12,
   "id": "4c3055b8",
   "metadata": {},
   "outputs": [
    {
     "data": {
      "text/plain": [
       "1"
      ]
     },
     "execution_count": 12,
     "metadata": {},
     "output_type": "execute_result"
    }
   ],
   "source": [
    "Dict[data[0][1]][data[1][1]]"
   ]
  },
  {
   "cell_type": "code",
   "execution_count": 13,
   "id": "2781f557",
   "metadata": {},
   "outputs": [
    {
     "data": {
      "text/plain": [
       "2500"
      ]
     },
     "execution_count": 13,
     "metadata": {},
     "output_type": "execute_result"
    }
   ],
   "source": [
    "len(data)"
   ]
  },
  {
   "cell_type": "code",
   "execution_count": 15,
   "id": "ea98f33f",
   "metadata": {},
   "outputs": [],
   "source": [
    "ans=0\n",
    "for i in range(len(data)):\n",
    "    ans+=Dict[data[0][i]][data[1][i]]"
   ]
  },
  {
   "cell_type": "code",
   "execution_count": 16,
   "id": "79e29164",
   "metadata": {},
   "outputs": [
    {
     "data": {
      "text/plain": [
       "13009"
      ]
     },
     "execution_count": 16,
     "metadata": {},
     "output_type": "execute_result"
    }
   ],
   "source": [
    "ans"
   ]
  },
  {
   "cell_type": "code",
   "execution_count": 17,
   "id": "9e48eb19",
   "metadata": {},
   "outputs": [],
   "source": [
    "#part 2\n",
    "Dict2={'A':{'X':3+0,'Y':1+3,'Z':2+6},\n",
    "       'B':{'X':1+0,'Y':2+3,'Z':3+6},\n",
    "       'C':{'X':2+0,'Y':3+3,'Z':1+6}}"
   ]
  },
  {
   "cell_type": "code",
   "execution_count": 18,
   "id": "f0ae2204",
   "metadata": {},
   "outputs": [],
   "source": [
    "ans2=0\n",
    "for i in range(len(data)):\n",
    "    ans2+=Dict2[data[0][i]][data[1][i]]"
   ]
  },
  {
   "cell_type": "code",
   "execution_count": 19,
   "id": "04b23269",
   "metadata": {},
   "outputs": [
    {
     "data": {
      "text/plain": [
       "10398"
      ]
     },
     "execution_count": 19,
     "metadata": {},
     "output_type": "execute_result"
    }
   ],
   "source": [
    "ans2"
   ]
  },
  {
   "cell_type": "code",
   "execution_count": null,
   "id": "d792f6a6",
   "metadata": {},
   "outputs": [],
   "source": []
  }
 ],
 "metadata": {
  "kernelspec": {
   "display_name": "Python 3 (ipykernel)",
   "language": "python",
   "name": "python3"
  },
  "language_info": {
   "codemirror_mode": {
    "name": "ipython",
    "version": 3
   },
   "file_extension": ".py",
   "mimetype": "text/x-python",
   "name": "python",
   "nbconvert_exporter": "python",
   "pygments_lexer": "ipython3",
   "version": "3.9.9"
  }
 },
 "nbformat": 4,
 "nbformat_minor": 5
}
