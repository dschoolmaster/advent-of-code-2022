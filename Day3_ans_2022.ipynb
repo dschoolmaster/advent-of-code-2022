{
 "cells": [
  {
   "cell_type": "code",
   "execution_count": 19,
   "id": "c1738609",
   "metadata": {},
   "outputs": [],
   "source": [
    "import pandas as pd\n",
    "import numpy as np\n",
    "import re\n",
    "import string"
   ]
  },
  {
   "cell_type": "code",
   "execution_count": 179,
   "id": "7e7e3964",
   "metadata": {},
   "outputs": [],
   "source": [
    "data=pd.read_csv(\"Day3_2022.txt\",header=None)"
   ]
  },
  {
   "cell_type": "code",
   "execution_count": 180,
   "id": "e4cb5ada",
   "metadata": {},
   "outputs": [],
   "source": [
    "foo=[*data[0][0]]"
   ]
  },
  {
   "cell_type": "code",
   "execution_count": 181,
   "id": "4ce09188",
   "metadata": {},
   "outputs": [
    {
     "data": {
      "text/plain": [
       "9"
      ]
     },
     "execution_count": 181,
     "metadata": {},
     "output_type": "execute_result"
    }
   ],
   "source": [
    "mid=round(len(foo)/2)\n",
    "foo1=foo[0:mid]\n",
    "foo2=foo[mid:len(foo)]\n",
    "mid"
   ]
  },
  {
   "cell_type": "code",
   "execution_count": null,
   "id": "b6108c7a",
   "metadata": {},
   "outputs": [],
   "source": []
  },
  {
   "cell_type": "code",
   "execution_count": null,
   "id": "7cefffe7",
   "metadata": {},
   "outputs": [],
   "source": []
  },
  {
   "cell_type": "code",
   "execution_count": 182,
   "id": "3096b62c",
   "metadata": {},
   "outputs": [],
   "source": [
    "#function to find intersections of lists\n",
    "def intersection(lst1, lst2):\n",
    "    return list(set(lst1) & set(lst2))"
   ]
  },
  {
   "cell_type": "code",
   "execution_count": 183,
   "id": "eddeb428",
   "metadata": {},
   "outputs": [],
   "source": [
    "#make dictionary of letter values\n",
    "values = dict()\n",
    "for index, letter in enumerate(string.ascii_lowercase+string.ascii_uppercase):\n",
    "   values[letter] = index + 1\n"
   ]
  },
  {
   "cell_type": "code",
   "execution_count": 184,
   "id": "f7ea096c",
   "metadata": {},
   "outputs": [],
   "source": [
    "#find value\n",
    "val=0\n",
    "for index in intersection(foo1,foo2):\n",
    "    val+=values[index]"
   ]
  },
  {
   "cell_type": "code",
   "execution_count": 185,
   "id": "0ac44365",
   "metadata": {},
   "outputs": [],
   "source": [
    "#putting all together\n",
    "ans=[]\n",
    "for i in range(len(data[0])):\n",
    "    foo=[*data[0][i]]\n",
    "    mid=round(len(foo)/2)\n",
    "    foo1=foo[0:mid]\n",
    "    foo2=foo[mid:len(foo)]\n",
    "    val=0\n",
    "    for index in intersection(foo1,foo2):\n",
    "        val+=values[index]\n",
    "    ans.append(val)\n",
    "    "
   ]
  },
  {
   "cell_type": "code",
   "execution_count": 186,
   "id": "49c31976",
   "metadata": {},
   "outputs": [
    {
     "data": {
      "text/plain": [
       "7872"
      ]
     },
     "execution_count": 186,
     "metadata": {},
     "output_type": "execute_result"
    }
   ],
   "source": [
    "sum(ans)"
   ]
  },
  {
   "cell_type": "code",
   "execution_count": 187,
   "id": "da483ad4",
   "metadata": {},
   "outputs": [],
   "source": [
    "#part 2"
   ]
  },
  {
   "cell_type": "code",
   "execution_count": 189,
   "id": "9857a10a",
   "metadata": {},
   "outputs": [],
   "source": [
    "iter=list(range(0,len(data[0]),3))\n"
   ]
  },
  {
   "cell_type": "code",
   "execution_count": 190,
   "id": "e83fdcb7",
   "metadata": {},
   "outputs": [],
   "source": [
    "ans2=[]\n",
    "iter=list(range(0,len(data[0]),3))\n",
    "for i in iter:\n",
    "    foo1=[*data[0][i]]\n",
    "    foo2=[*data[0][i+1]]\n",
    "    foo3=[*data[0][i+2]]\n",
    "    ans2.append(values[intersection(intersection(foo1,foo2),foo3)[0]])"
   ]
  },
  {
   "cell_type": "code",
   "execution_count": 191,
   "id": "703ae000",
   "metadata": {},
   "outputs": [
    {
     "data": {
      "text/plain": [
       "2497"
      ]
     },
     "execution_count": 191,
     "metadata": {},
     "output_type": "execute_result"
    }
   ],
   "source": [
    "sum(ans2)"
   ]
  },
  {
   "cell_type": "code",
   "execution_count": null,
   "id": "573abd89",
   "metadata": {},
   "outputs": [],
   "source": []
  },
  {
   "cell_type": "code",
   "execution_count": null,
   "id": "cca03e01",
   "metadata": {},
   "outputs": [],
   "source": []
  },
  {
   "cell_type": "code",
   "execution_count": null,
   "id": "680148ff",
   "metadata": {},
   "outputs": [],
   "source": []
  },
  {
   "cell_type": "code",
   "execution_count": null,
   "id": "beae4c4e",
   "metadata": {},
   "outputs": [],
   "source": []
  }
 ],
 "metadata": {
  "kernelspec": {
   "display_name": "Python 3 (ipykernel)",
   "language": "python",
   "name": "python3"
  },
  "language_info": {
   "codemirror_mode": {
    "name": "ipython",
    "version": 3
   },
   "file_extension": ".py",
   "mimetype": "text/x-python",
   "name": "python",
   "nbconvert_exporter": "python",
   "pygments_lexer": "ipython3",
   "version": "3.9.9"
  }
 },
 "nbformat": 4,
 "nbformat_minor": 5
}
