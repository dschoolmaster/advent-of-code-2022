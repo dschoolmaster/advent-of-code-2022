{
 "cells": [
  {
   "cell_type": "code",
   "execution_count": 1,
   "id": "358d1a2c",
   "metadata": {},
   "outputs": [],
   "source": [
    "import re\n",
    "import numpy as np\n",
    "import pandas as pd"
   ]
  },
  {
   "cell_type": "code",
   "execution_count": 3,
   "id": "7c138dac",
   "metadata": {},
   "outputs": [],
   "source": [
    "data_tst=pd.read_csv(\"Day4_2022_test.txt\",header=None,delimiter=\"\\t\")"
   ]
  },
  {
   "cell_type": "code",
   "execution_count": 4,
   "id": "6d76dd04",
   "metadata": {},
   "outputs": [
    {
     "data": {
      "text/plain": [
       "0    2-4,6-8\n",
       "1    2-3,4-5\n",
       "2    5-7,7-9\n",
       "3    2-8,3-7\n",
       "4    6-6,4-6\n",
       "5    2-6,4-8\n",
       "Name: 0, dtype: object"
      ]
     },
     "execution_count": 4,
     "metadata": {},
     "output_type": "execute_result"
    }
   ],
   "source": [
    "data_tst[0]"
   ]
  },
  {
   "cell_type": "code",
   "execution_count": 5,
   "id": "e48a4b02",
   "metadata": {},
   "outputs": [],
   "source": [
    "gp=data_tst[0][0]"
   ]
  },
  {
   "cell_type": "code",
   "execution_count": null,
   "id": "182d11d1",
   "metadata": {},
   "outputs": [],
   "source": []
  },
  {
   "cell_type": "code",
   "execution_count": 18,
   "id": "95af8076",
   "metadata": {},
   "outputs": [],
   "source": [
    "ends=re.split(\"(\\\\-|,)\",gp)"
   ]
  },
  {
   "cell_type": "code",
   "execution_count": 35,
   "id": "37da5f3e",
   "metadata": {},
   "outputs": [],
   "source": [
    "s1=set(list(range(int(ends[0]),int(ends[2])+1,1)))\n",
    "s2=set(list(range(int(ends[4]),int(ends[6])+1,1)))"
   ]
  },
  {
   "cell_type": "code",
   "execution_count": 31,
   "id": "82841561",
   "metadata": {},
   "outputs": [
    {
     "data": {
      "text/plain": [
       "False"
      ]
     },
     "execution_count": 31,
     "metadata": {},
     "output_type": "execute_result"
    }
   ],
   "source": [
    "s1.issubset(s2)|s2.issubset(s1)"
   ]
  },
  {
   "cell_type": "code",
   "execution_count": 39,
   "id": "8e08a596",
   "metadata": {},
   "outputs": [],
   "source": [
    "#put it together \n",
    "#should get 2 with test data\n",
    "ans=[]\n",
    "for i in range(len(data_tst[0])):\n",
    "    gp=data_tst[0][i]\n",
    "    ends=re.split(\"(\\\\-|,)\",gp)\n",
    "    s1=set(list(range(int(ends[0]),int(ends[2])+1,1)))\n",
    "    s2=set(list(range(int(ends[4]),int(ends[6])+1,1)))\n",
    "    ans.append(s1.issubset(s2)|s2.issubset(s1))"
   ]
  },
  {
   "cell_type": "code",
   "execution_count": 40,
   "id": "67f986da",
   "metadata": {},
   "outputs": [
    {
     "data": {
      "text/plain": [
       "[False, False, False, True, True, False]"
      ]
     },
     "execution_count": 40,
     "metadata": {},
     "output_type": "execute_result"
    }
   ],
   "source": [
    "ans"
   ]
  },
  {
   "cell_type": "code",
   "execution_count": 41,
   "id": "20084aa4",
   "metadata": {},
   "outputs": [
    {
     "data": {
      "text/plain": [
       "2"
      ]
     },
     "execution_count": 41,
     "metadata": {},
     "output_type": "execute_result"
    }
   ],
   "source": [
    "sum(ans)"
   ]
  },
  {
   "cell_type": "code",
   "execution_count": 43,
   "id": "c4b627e6",
   "metadata": {},
   "outputs": [],
   "source": [
    "#do it for the whole set\n",
    "data=pd.read_csv(\"Day4_2022.txt\",header=None,delimiter=\"\\t\")\n",
    "ans=[]\n",
    "for i in range(len(data[0])):\n",
    "    gp=data[0][i]\n",
    "    ends=re.split(\"(\\\\-|,)\",gp)\n",
    "    s1=set(list(range(int(ends[0]),int(ends[2])+1,1)))\n",
    "    s2=set(list(range(int(ends[4]),int(ends[6])+1,1)))\n",
    "    ans.append(s1.issubset(s2)|s2.issubset(s1))"
   ]
  },
  {
   "cell_type": "code",
   "execution_count": 45,
   "id": "ee4f11e4",
   "metadata": {},
   "outputs": [
    {
     "data": {
      "text/plain": [
       "305"
      ]
     },
     "execution_count": 45,
     "metadata": {},
     "output_type": "execute_result"
    }
   ],
   "source": [
    "sum(ans)"
   ]
  },
  {
   "cell_type": "code",
   "execution_count": 53,
   "id": "d15e6bbf",
   "metadata": {},
   "outputs": [],
   "source": [
    "#part 2: find number of intersections\n",
    "gp=data_tst[0][1]\n",
    "ends=re.split(\"(\\\\-|,)\",gp)\n",
    "s1=set(list(range(int(ends[0]),int(ends[2])+1,1)))\n",
    "s2=set(list(range(int(ends[4]),int(ends[6])+1,1)))\n",
    "    "
   ]
  },
  {
   "cell_type": "code",
   "execution_count": 58,
   "id": "f214a5dd",
   "metadata": {},
   "outputs": [],
   "source": [
    "#should get 4 with test data\n",
    "ans2=[]\n",
    "for i in range(len(data_tst[0])):\n",
    "    gp=data_tst[0][i]\n",
    "    ends=re.split(\"(\\\\-|,)\",gp)\n",
    "    s1=set(list(range(int(ends[0]),int(ends[2])+1,1)))\n",
    "    s2=set(list(range(int(ends[4]),int(ends[6])+1,1)))\n",
    "    ans2.append(len(s1.intersection(s2)))"
   ]
  },
  {
   "cell_type": "code",
   "execution_count": 63,
   "id": "0f7272b1",
   "metadata": {},
   "outputs": [
    {
     "data": {
      "text/plain": [
       "4"
      ]
     },
     "execution_count": 63,
     "metadata": {},
     "output_type": "execute_result"
    }
   ],
   "source": [
    "sum(np.array(ans2)>0)"
   ]
  },
  {
   "cell_type": "code",
   "execution_count": 64,
   "id": "05ea2542",
   "metadata": {},
   "outputs": [],
   "source": [
    "ans2=[]\n",
    "for i in range(len(data[0])):\n",
    "    gp=data[0][i]\n",
    "    ends=re.split(\"(\\\\-|,)\",gp)\n",
    "    s1=set(list(range(int(ends[0]),int(ends[2])+1,1)))\n",
    "    s2=set(list(range(int(ends[4]),int(ends[6])+1,1)))\n",
    "    ans2.append(len(s1.intersection(s2)))"
   ]
  },
  {
   "cell_type": "code",
   "execution_count": 65,
   "id": "d97be469",
   "metadata": {},
   "outputs": [
    {
     "data": {
      "text/plain": [
       "811"
      ]
     },
     "execution_count": 65,
     "metadata": {},
     "output_type": "execute_result"
    }
   ],
   "source": [
    "sum(np.array(ans2)>0)"
   ]
  },
  {
   "cell_type": "code",
   "execution_count": null,
   "id": "94867f92",
   "metadata": {},
   "outputs": [],
   "source": []
  }
 ],
 "metadata": {
  "kernelspec": {
   "display_name": "Python 3 (ipykernel)",
   "language": "python",
   "name": "python3"
  },
  "language_info": {
   "codemirror_mode": {
    "name": "ipython",
    "version": 3
   },
   "file_extension": ".py",
   "mimetype": "text/x-python",
   "name": "python",
   "nbconvert_exporter": "python",
   "pygments_lexer": "ipython3",
   "version": "3.9.9"
  }
 },
 "nbformat": 4,
 "nbformat_minor": 5
}
