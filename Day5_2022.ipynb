{
 "cells": [
  {
   "cell_type": "code",
   "execution_count": null,
   "id": "6fb03547",
   "metadata": {},
   "outputs": [],
   "source": [
    "import re\n",
    "import string"
   ]
  },
  {
   "cell_type": "code",
   "execution_count": 390,
   "id": "2cf0670f",
   "metadata": {},
   "outputs": [],
   "source": [
    "with open('Day5_2022_test.txt') as f:\n",
    "    lines = f.readlines()"
   ]
  },
  {
   "cell_type": "code",
   "execution_count": 81,
   "id": "c1e2d977",
   "metadata": {},
   "outputs": [
    {
     "data": {
      "text/plain": [
       "['    [D]    \\n',\n",
       " '[N] [C]    \\n',\n",
       " '[Z] [M] [P]\\n',\n",
       " ' 1   2   3 \\n',\n",
       " '\\n',\n",
       " 'move 1 from 2 to 1\\n',\n",
       " 'move 3 from 1 to 3\\n',\n",
       " 'move 2 from 2 to 1\\n',\n",
       " 'move 1 from 1 to 2']"
      ]
     },
     "execution_count": 81,
     "metadata": {},
     "output_type": "execute_result"
    }
   ],
   "source": [
    "lines"
   ]
  },
  {
   "cell_type": "code",
   "execution_count": 235,
   "id": "fc274e0c",
   "metadata": {},
   "outputs": [
    {
     "data": {
      "text/plain": [
       "[' ', 'D', ' ']"
      ]
     },
     "execution_count": 235,
     "metadata": {},
     "output_type": "execute_result"
    }
   ],
   "source": [
    "z=[*lines[0]]\n",
    "z[1:10:4]"
   ]
  },
  {
   "cell_type": "code",
   "execution_count": null,
   "id": "f6369ade",
   "metadata": {},
   "outputs": [],
   "source": []
  },
  {
   "cell_type": "code",
   "execution_count": 397,
   "id": "1cf877f7",
   "metadata": {},
   "outputs": [],
   "source": [
    "#find the line with bin numbers\n",
    "i=0\n",
    "while '[' in  lines[i]:\n",
    "    i+=1"
   ]
  },
  {
   "cell_type": "code",
   "execution_count": 398,
   "id": "4e948ee9",
   "metadata": {},
   "outputs": [],
   "source": [
    "bins=[*lines[i]]"
   ]
  },
  {
   "cell_type": "code",
   "execution_count": 393,
   "id": "81c47b6a",
   "metadata": {},
   "outputs": [],
   "source": [
    "#find the number of bins\n",
    "n=max([int(x) for x in bins if x in string.digits])"
   ]
  },
  {
   "cell_type": "code",
   "execution_count": 399,
   "id": "9184144c",
   "metadata": {},
   "outputs": [],
   "source": [
    "#fill list from the bottom up\n",
    "bn=[[] for _ in range(n)]\n",
    "for x in reversed(range(i)):\n",
    "    z=[*lines[x]]\n",
    "    z=z[1:10:4]\n",
    "    for j in range(n):\n",
    "        if z[j] in string.ascii_uppercase:\n",
    "            bn[j].append(z[j])"
   ]
  },
  {
   "cell_type": "code",
   "execution_count": 400,
   "id": "18ac9a95",
   "metadata": {},
   "outputs": [
    {
     "data": {
      "text/plain": [
       "[['Z', 'N'], ['M', 'C', 'D'], ['P']]"
      ]
     },
     "execution_count": 400,
     "metadata": {},
     "output_type": "execute_result"
    }
   ],
   "source": [
    "bn"
   ]
  },
  {
   "cell_type": "code",
   "execution_count": null,
   "id": "889095c5",
   "metadata": {},
   "outputs": [],
   "source": [
    "#start of instructions \n"
   ]
  },
  {
   "cell_type": "code",
   "execution_count": 241,
   "id": "640d13bf",
   "metadata": {},
   "outputs": [],
   "source": [
    "for j in range(i+2,len(lines)):\n",
    "    inst=[int(x) for x in re.split('\\s+',lines[j]) if x in string.digits and x not in string.whitespace]\n",
    "    for k in range(inst[0]):\n",
    "        bn[inst[2]-1].append(bn[inst[1]-1].pop())\n",
    "    "
   ]
  },
  {
   "cell_type": "code",
   "execution_count": 243,
   "id": "065f2aaf",
   "metadata": {},
   "outputs": [
    {
     "data": {
      "text/plain": [
       "[['C'], ['M'], ['P', 'D', 'N', 'Z']]"
      ]
     },
     "execution_count": 243,
     "metadata": {},
     "output_type": "execute_result"
    }
   ],
   "source": [
    "bn"
   ]
  },
  {
   "cell_type": "code",
   "execution_count": 244,
   "id": "062caafd",
   "metadata": {},
   "outputs": [
    {
     "data": {
      "text/plain": [
       "'CMZ'"
      ]
     },
     "execution_count": 244,
     "metadata": {},
     "output_type": "execute_result"
    }
   ],
   "source": [
    "ans=[bn[x][-1] for x in range(n)]\n",
    "\"\".join(ans)"
   ]
  },
  {
   "cell_type": "code",
   "execution_count": 411,
   "id": "120f93a4",
   "metadata": {},
   "outputs": [],
   "source": [
    "# do it for input\n",
    "with open('Day5_2022.txt') as f:\n",
    "    lines = f.readlines()\n"
   ]
  },
  {
   "cell_type": "code",
   "execution_count": 412,
   "id": "645f8391",
   "metadata": {},
   "outputs": [
    {
     "data": {
      "text/plain": [
       "8"
      ]
     },
     "execution_count": 412,
     "metadata": {},
     "output_type": "execute_result"
    }
   ],
   "source": [
    "i=0\n",
    "while '[' in  lines[i]:\n",
    "    i+=1\n",
    "i"
   ]
  },
  {
   "cell_type": "code",
   "execution_count": 413,
   "id": "c612678c",
   "metadata": {},
   "outputs": [
    {
     "data": {
      "text/plain": [
       "9"
      ]
     },
     "execution_count": 413,
     "metadata": {},
     "output_type": "execute_result"
    }
   ],
   "source": [
    "bins=[*lines[i]]\n",
    "#find the number of bins\n",
    "n=max([int(x) for x in bins if x in string.digits])\n",
    "n"
   ]
  },
  {
   "cell_type": "code",
   "execution_count": 414,
   "id": "d3eb72f2",
   "metadata": {},
   "outputs": [
    {
     "data": {
      "text/plain": [
       "[[], [], [], [], [], [], [], [], []]"
      ]
     },
     "execution_count": 414,
     "metadata": {},
     "output_type": "execute_result"
    }
   ],
   "source": [
    "bn=[[] for _ in range(n)]\n",
    "bn"
   ]
  },
  {
   "cell_type": "code",
   "execution_count": 415,
   "id": "dd7b7d92",
   "metadata": {},
   "outputs": [
    {
     "data": {
      "text/plain": [
       "[['Q', 'F', 'M', 'R', 'L', 'W', 'C', 'V'],\n",
       " ['D', 'Q', 'L'],\n",
       " ['P', 'S', 'R', 'G', 'W', 'C', 'N', 'B'],\n",
       " ['L', 'C', 'D', 'H', 'B', 'Q', 'G'],\n",
       " ['V', 'G', 'L', 'F', 'Z', 'S'],\n",
       " ['D', 'G', 'N', 'P'],\n",
       " ['D', 'Z', 'P', 'V', 'F', 'C', 'W'],\n",
       " ['C', 'P', 'D', 'M', 'S'],\n",
       " ['Z', 'N', 'W', 'T', 'V', 'M', 'P', 'C']]"
      ]
     },
     "execution_count": 415,
     "metadata": {},
     "output_type": "execute_result"
    }
   ],
   "source": [
    "#fill list from the bottom up\n",
    "\n",
    "for x in reversed(range(i)):\n",
    "    z=[*lines[x]]\n",
    "    z=z[1:(n*4)+1:4]\n",
    "    for j in range(n):\n",
    "        if z[j] in string.ascii_uppercase:\n",
    "            bn[j].append(z[j])\n",
    "bn"
   ]
  },
  {
   "cell_type": "code",
   "execution_count": 290,
   "id": "81eeeb18",
   "metadata": {
    "scrolled": true
   },
   "outputs": [],
   "source": [
    "for j in range(i+2,len(lines)):\n",
    "    inst=[int(x) for x in re.split('\\s+',lines[j]) if x.isnumeric()]\n",
    "    for k in range(inst[0]):\n",
    "        bn[inst[2]-1].append(bn[inst[1]-1].pop())\n",
    "   "
   ]
  },
  {
   "cell_type": "code",
   "execution_count": 291,
   "id": "f0471306",
   "metadata": {},
   "outputs": [
    {
     "data": {
      "text/plain": [
       "'VWLCWGSDQ'"
      ]
     },
     "execution_count": 291,
     "metadata": {},
     "output_type": "execute_result"
    }
   ],
   "source": [
    "ans2=[bn[x][-1] for x in range(n)]\n",
    "\"\".join(ans2)"
   ]
  },
  {
   "cell_type": "code",
   "execution_count": 416,
   "id": "c8520a5f",
   "metadata": {},
   "outputs": [],
   "source": [
    "#part 2 move ranges not sequential pops\n",
    "bn=[[] for _ in range(n)]\n",
    "#fill list from the bottom up\n",
    "\n",
    "for x in reversed(range(i)):\n",
    "    z=[*lines[x]]\n",
    "    z=z[1:(n*4)+1:4]\n",
    "    for j in range(n):\n",
    "        if z[j] in string.ascii_uppercase:\n",
    "            bn[j].append(z[j])"
   ]
  },
  {
   "cell_type": "code",
   "execution_count": 419,
   "id": "fd7e7915",
   "metadata": {},
   "outputs": [
    {
     "data": {
      "text/plain": [
       "[['T'],\n",
       " ['R',\n",
       "  'H',\n",
       "  'F',\n",
       "  'M',\n",
       "  'D',\n",
       "  'N',\n",
       "  'P',\n",
       "  'B',\n",
       "  'F',\n",
       "  'D',\n",
       "  'C',\n",
       "  'F',\n",
       "  'N',\n",
       "  'W',\n",
       "  'C',\n",
       "  'V',\n",
       "  'C'],\n",
       " ['V', 'Q', 'G'],\n",
       " ['C', 'L'],\n",
       " ['Q'],\n",
       " ['D', 'P', 'S', 'W', 'C', 'P', 'B', 'N', 'Z', 'Q', 'Z', 'S'],\n",
       " ['V', 'L', 'C', 'L'],\n",
       " ['S', 'D', 'V', 'G', 'M', 'G', 'D', 'P'],\n",
       " ['P', 'G', 'W', 'Z', 'M', 'L', 'R', 'W']]"
      ]
     },
     "execution_count": 419,
     "metadata": {},
     "output_type": "execute_result"
    }
   ],
   "source": [
    "for j in range(i+2,len(lines)):\n",
    "    inst=[int(x) for x in re.split('\\s+',lines[j]) if x.isnumeric()]\n",
    "    foo=bn[inst[1]-1][-1:-inst[0]-1:-1]\n",
    "    foo.reverse()\n",
    "    bn[inst[2]-1].extend(foo)\n",
    "    del bn[inst[1]-1][-1:-inst[0]-1:-1]\n",
    "bn"
   ]
  },
  {
   "cell_type": "code",
   "execution_count": 420,
   "id": "0727f586",
   "metadata": {},
   "outputs": [
    {
     "data": {
      "text/plain": [
       "'TCGLQSLPW'"
      ]
     },
     "execution_count": 420,
     "metadata": {},
     "output_type": "execute_result"
    }
   ],
   "source": [
    "ans2=[bn[x][-1] for x in range(n)]\n",
    "\"\".join(ans2)"
   ]
  },
  {
   "cell_type": "code",
   "execution_count": null,
   "id": "dd140f52",
   "metadata": {},
   "outputs": [],
   "source": []
  }
 ],
 "metadata": {
  "kernelspec": {
   "display_name": "Python 3 (ipykernel)",
   "language": "python",
   "name": "python3"
  },
  "language_info": {
   "codemirror_mode": {
    "name": "ipython",
    "version": 3
   },
   "file_extension": ".py",
   "mimetype": "text/x-python",
   "name": "python",
   "nbconvert_exporter": "python",
   "pygments_lexer": "ipython3",
   "version": "3.9.9"
  }
 },
 "nbformat": 4,
 "nbformat_minor": 5
}
