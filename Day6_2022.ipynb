{
 "cells": [
  {
   "cell_type": "code",
   "execution_count": 1,
   "id": "bdc46cd0",
   "metadata": {},
   "outputs": [],
   "source": [
    "import string"
   ]
  },
  {
   "cell_type": "code",
   "execution_count": 14,
   "id": "984546c9",
   "metadata": {},
   "outputs": [],
   "source": [
    "msg1=\"bvwbjplbgvbhsrlpgdmjqwftvncz\"\n",
    "msg2=\"nznrnfrfntjfmvfwmzdfjlvtqnbhcprsg\"\n",
    "msg3=\"zcfzfwzzqfrljwzlrfnpqdbhtmscgvjw\""
   ]
  },
  {
   "cell_type": "code",
   "execution_count": 67,
   "id": "174bf499",
   "metadata": {},
   "outputs": [],
   "source": [
    "#decompose message\n",
    "msg_chop=[*msg3]\n"
   ]
  },
  {
   "cell_type": "code",
   "execution_count": 68,
   "id": "83e69757",
   "metadata": {},
   "outputs": [
    {
     "data": {
      "text/plain": [
       "False"
      ]
     },
     "execution_count": 68,
     "metadata": {},
     "output_type": "execute_result"
    }
   ],
   "source": [
    "\"n\" in msg_chop[0]+msg_chop[1]+msg_chop[2]"
   ]
  },
  {
   "cell_type": "code",
   "execution_count": 71,
   "id": "d78cb0aa",
   "metadata": {},
   "outputs": [],
   "source": [
    "i=3\n",
    "tst=True\n",
    "while tst:\n",
    "    tst=msg_chop[i] in msg_chop[0+i-3]+msg_chop[1+i-3]+msg_chop[2+i-3] or \\\n",
    "        msg_chop[0+i-3] in msg_chop[i]+msg_chop[1+i-3]+msg_chop[2+i-3] or \\\n",
    "        msg_chop[1+i-3] in msg_chop[i]+msg_chop[0+i-3]+msg_chop[2+i-3] or \\\n",
    "        msg_chop[2+i-3] in msg_chop[i]+msg_chop[1+i-3]+msg_chop[0+i-3]\n",
    "    i+=1"
   ]
  },
  {
   "cell_type": "code",
   "execution_count": 72,
   "id": "b42dcaaf",
   "metadata": {},
   "outputs": [
    {
     "data": {
      "text/plain": [
       "11"
      ]
     },
     "execution_count": 72,
     "metadata": {},
     "output_type": "execute_result"
    }
   ],
   "source": [
    "i"
   ]
  },
  {
   "cell_type": "code",
   "execution_count": 73,
   "id": "e9084ada",
   "metadata": {},
   "outputs": [],
   "source": [
    "#start with input data\n",
    "with open('Day6_2022.txt') as f:\n",
    "    lines = f.readlines()"
   ]
  },
  {
   "cell_type": "code",
   "execution_count": 76,
   "id": "9f6f91ec",
   "metadata": {},
   "outputs": [],
   "source": [
    "msg_chop=[*lines[0]]"
   ]
  },
  {
   "cell_type": "code",
   "execution_count": 77,
   "id": "c51109a7",
   "metadata": {},
   "outputs": [],
   "source": [
    "i=3\n",
    "tst=True\n",
    "while tst:\n",
    "    tst=msg_chop[i] in msg_chop[0+i-3]+msg_chop[1+i-3]+msg_chop[2+i-3] or \\\n",
    "        msg_chop[0+i-3] in msg_chop[i]+msg_chop[1+i-3]+msg_chop[2+i-3] or \\\n",
    "        msg_chop[1+i-3] in msg_chop[i]+msg_chop[0+i-3]+msg_chop[2+i-3] or \\\n",
    "        msg_chop[2+i-3] in msg_chop[i]+msg_chop[1+i-3]+msg_chop[0+i-3]\n",
    "    i+=1"
   ]
  },
  {
   "cell_type": "code",
   "execution_count": 78,
   "id": "aab67f63",
   "metadata": {},
   "outputs": [
    {
     "data": {
      "text/plain": [
       "1093"
      ]
     },
     "execution_count": 78,
     "metadata": {},
     "output_type": "execute_result"
    }
   ],
   "source": [
    "i"
   ]
  },
  {
   "cell_type": "code",
   "execution_count": 92,
   "id": "5ff9c4ee",
   "metadata": {},
   "outputs": [],
   "source": [
    "#part 2 use set\n",
    "msg_chop=[*\"mjqjpqmgbljsphdztnvjfqwrcgsmlb\"]"
   ]
  },
  {
   "cell_type": "code",
   "execution_count": 97,
   "id": "d49adae1",
   "metadata": {},
   "outputs": [],
   "source": [
    "#test with knowns\n",
    "i=0\n",
    "tst=0\n",
    "while tst<14 or i==len(msg_chop):\n",
    " tst=len(set(msg_chop[0+i:14+i:1]))\n",
    " i+=1"
   ]
  },
  {
   "cell_type": "code",
   "execution_count": 99,
   "id": "2345d699",
   "metadata": {},
   "outputs": [
    {
     "data": {
      "text/plain": [
       "19"
      ]
     },
     "execution_count": 99,
     "metadata": {},
     "output_type": "execute_result"
    }
   ],
   "source": [
    "13+i"
   ]
  },
  {
   "cell_type": "code",
   "execution_count": 100,
   "id": "d513aa23",
   "metadata": {},
   "outputs": [],
   "source": [
    "#do it on the input\n",
    "msg_chop=[*lines[0]]\n",
    "i=0\n",
    "tst=0\n",
    "while tst<14:\n",
    " tst=len(set(msg_chop[0+i:14+i:1]))\n",
    " i+=1"
   ]
  },
  {
   "cell_type": "code",
   "execution_count": 101,
   "id": "4a45065f",
   "metadata": {},
   "outputs": [
    {
     "data": {
      "text/plain": [
       "3534"
      ]
     },
     "execution_count": 101,
     "metadata": {},
     "output_type": "execute_result"
    }
   ],
   "source": [
    "13+i"
   ]
  },
  {
   "cell_type": "code",
   "execution_count": null,
   "id": "0abae34b",
   "metadata": {},
   "outputs": [],
   "source": []
  }
 ],
 "metadata": {
  "kernelspec": {
   "display_name": "Python 3 (ipykernel)",
   "language": "python",
   "name": "python3"
  },
  "language_info": {
   "codemirror_mode": {
    "name": "ipython",
    "version": 3
   },
   "file_extension": ".py",
   "mimetype": "text/x-python",
   "name": "python",
   "nbconvert_exporter": "python",
   "pygments_lexer": "ipython3",
   "version": "3.9.9"
  }
 },
 "nbformat": 4,
 "nbformat_minor": 5
}
