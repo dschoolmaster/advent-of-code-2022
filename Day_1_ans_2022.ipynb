{
 "cells": [
  {
   "cell_type": "code",
   "execution_count": 1,
   "id": "c162c825",
   "metadata": {},
   "outputs": [],
   "source": [
    "import pandas as pd\n",
    "import numpy as np"
   ]
  },
  {
   "cell_type": "code",
   "execution_count": 2,
   "id": "14e17b8e",
   "metadata": {},
   "outputs": [],
   "source": [
    "data=pd.read_csv(\"Day1_2022.txt\",header=None,delimiter=\"\\t\",skip_blank_lines=False)"
   ]
  },
  {
   "cell_type": "code",
   "execution_count": 3,
   "id": "7dcbe048",
   "metadata": {},
   "outputs": [],
   "source": [
    "df=pd.array(data[0])"
   ]
  },
  {
   "cell_type": "code",
   "execution_count": 4,
   "id": "f39e5f45",
   "metadata": {},
   "outputs": [],
   "source": [
    "is_blank=np.isnan(df)"
   ]
  },
  {
   "cell_type": "code",
   "execution_count": 5,
   "id": "5c2a07dd",
   "metadata": {},
   "outputs": [
    {
     "data": {
      "text/plain": [
       "235"
      ]
     },
     "execution_count": 5,
     "metadata": {},
     "output_type": "execute_result"
    }
   ],
   "source": [
    "np.sum(is_blank)"
   ]
  },
  {
   "cell_type": "code",
   "execution_count": 6,
   "id": "07c0dc44",
   "metadata": {},
   "outputs": [],
   "source": [
    "ans=[0]*np.sum(is_blank)\n"
   ]
  },
  {
   "cell_type": "code",
   "execution_count": 7,
   "id": "0a19c1e6",
   "metadata": {},
   "outputs": [],
   "source": [
    "i=0;\n",
    "\n",
    "tempsum=0\n",
    "for j in range(len(df)):\n",
    "    if(not(is_blank[j])):\n",
    "        tempsum=tempsum+df[j]\n",
    "    else:\n",
    "        ans[i]=tempsum\n",
    "        i+=1\n",
    "        tempsum=0\n",
    "\n",
    "    "
   ]
  },
  {
   "cell_type": "code",
   "execution_count": 141,
   "id": "c7a9fad0",
   "metadata": {},
   "outputs": [
    {
     "data": {
      "text/plain": [
       "198041.0"
      ]
     },
     "execution_count": 141,
     "metadata": {},
     "output_type": "execute_result"
    }
   ],
   "source": [
    "#answer 2\n",
    "np.sum(np.sort(ans)[[232,233,234]])"
   ]
  },
  {
   "cell_type": "code",
   "execution_count": 71,
   "id": "51d11ef9",
   "metadata": {},
   "outputs": [
    {
     "data": {
      "text/plain": [
       "range(0, 235)"
      ]
     },
     "execution_count": 71,
     "metadata": {},
     "output_type": "execute_result"
    }
   ],
   "source": [
    "range(len(ans))"
   ]
  },
  {
   "cell_type": "code",
   "execution_count": 108,
   "id": "af961c36",
   "metadata": {},
   "outputs": [
    {
     "ename": "AttributeError",
     "evalue": "'PandasArray' object has no attribute 'index'",
     "output_type": "error",
     "traceback": [
      "\u001b[0;31m---------------------------------------------------------------------------\u001b[0m",
      "\u001b[0;31mAttributeError\u001b[0m                            Traceback (most recent call last)",
      "\u001b[0;32m/var/folders/z8/4h0kz4vs3m1_cf3cttxby0bw0000gn/T/ipykernel_54826/3894627896.py\u001b[0m in \u001b[0;36m<module>\u001b[0;34m\u001b[0m\n\u001b[0;32m----> 1\u001b[0;31m \u001b[0mdf\u001b[0m\u001b[0;34m[\u001b[0m\u001b[0mdf\u001b[0m\u001b[0;34m==\u001b[0m\u001b[0;34m\" \"\u001b[0m\u001b[0;34m]\u001b[0m\u001b[0;34m.\u001b[0m\u001b[0mindex\u001b[0m\u001b[0;34m.\u001b[0m\u001b[0mvalues\u001b[0m\u001b[0;34m\u001b[0m\u001b[0;34m\u001b[0m\u001b[0m\n\u001b[0m",
      "\u001b[0;31mAttributeError\u001b[0m: 'PandasArray' object has no attribute 'index'"
     ]
    }
   ],
   "source": [
    "df[df==\" \"].index.values"
   ]
  },
  {
   "cell_type": "code",
   "execution_count": null,
   "id": "5a26ca08",
   "metadata": {},
   "outputs": [],
   "source": []
  },
  {
   "cell_type": "code",
   "execution_count": null,
   "id": "9e19c122",
   "metadata": {},
   "outputs": [],
   "source": []
  }
 ],
 "metadata": {
  "kernelspec": {
   "display_name": "Python 3 (ipykernel)",
   "language": "python",
   "name": "python3"
  },
  "language_info": {
   "codemirror_mode": {
    "name": "ipython",
    "version": 3
   },
   "file_extension": ".py",
   "mimetype": "text/x-python",
   "name": "python",
   "nbconvert_exporter": "python",
   "pygments_lexer": "ipython3",
   "version": "3.9.9"
  }
 },
 "nbformat": 4,
 "nbformat_minor": 5
}
